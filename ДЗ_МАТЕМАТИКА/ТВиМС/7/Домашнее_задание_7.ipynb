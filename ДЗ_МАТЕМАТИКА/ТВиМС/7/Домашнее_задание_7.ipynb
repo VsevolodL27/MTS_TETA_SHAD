{
 "cells": [
  {
   "cell_type": "markdown",
   "id": "07c91aca",
   "metadata": {},
   "source": [
    "<h1 style=\"text-align: center;\">Домашнее задание №7</h1>"
   ]
  },
  {
   "cell_type": "markdown",
   "id": "fd8b6fb1",
   "metadata": {},
   "source": [
    "Для датасета из прошлого домашнего задания необходимо:  \n",
    "* Сформировать двухвыборочные гипотезы касательно медиан и распределений для дискретного и непрерывного случая. Если дискретного показателя нет - создайте его дополнительно. Итого 4 гипотезы (4 пункта).\n",
    "* Каждую гипотезу проверьте релевантным тестом и обоснуйте, почему выбрали именно его. 5-м пунктом будет проверка результатов с бутстрапом.\n",
    "* Сравните результаты из 4 пунктов с результатами бутстрапа и обоснуйте различия, если они есть. Определите какой подход мощнее в конкретном случае и почему."
   ]
  },
  {
   "cell_type": "code",
   "execution_count": 1,
   "id": "723f02af",
   "metadata": {},
   "outputs": [],
   "source": [
    "# Импортируем необходимые библиотеки\n",
    "from itertools import combinations\n",
    "import numpy as np\n",
    "import pandas as pd\n",
    "pd.options.mode.chained_assignment = None  # default='warn'\n",
    "import scipy.stats as sts\n",
    "from scipy.stats import ttest_ind, mannwhitneyu, norm, shapiro, normaltest, ttest_ind_from_stats\n",
    "\n",
    "import matplotlib.pyplot as plt\n",
    "import seaborn as sns\n",
    "plt.style.use('ggplot')\n",
    "%matplotlib inline\n",
    "\n",
    "from warnings import simplefilter"
   ]
  },
  {
   "cell_type": "markdown",
   "id": "5d308f1b",
   "metadata": {},
   "source": [
    "Возьмем датасет из прошлого задания, представляющий собой данные из приложения МТС Kion по взаимодействиям пользователей с контентом за период 6 месяцев (платформа ODS - https://ods.ai/competitions/competition-recsys-21). Я выбрал следующие метрики:\n",
    "* total_dur - общая продолжительность всех просмотров данного контента в секундах.\n",
    "* series_cnt - количество просмотренных сериалов.\n",
    "Первый признак необходимо усреднить для каждого пользователя, а второй - искусственно создать на основе данных из датасета interactions."
   ]
  },
  {
   "cell_type": "code",
   "execution_count": 2,
   "id": "ce89ddd9",
   "metadata": {},
   "outputs": [],
   "source": [
    "users = pd.read_csv('users.csv')\n",
    "interactions = pd.read_csv('interactions.csv')\n",
    "items = pd.read_csv('items.csv')"
   ]
  },
  {
   "cell_type": "code",
   "execution_count": 3,
   "id": "5a862538",
   "metadata": {},
   "outputs": [],
   "source": [
    "total_dur = interactions[['user_id', 'total_dur']]\\\n",
    "                        .groupby('user_id')\\\n",
    "                        .mean()\n",
    "users = users.merge(total_dur, how='inner', on=['user_id'])\n",
    "users['total_dur'] = round(users['total_dur'], 2) "
   ]
  },
  {
   "cell_type": "code",
   "execution_count": 4,
   "id": "d6ba6f4c",
   "metadata": {},
   "outputs": [],
   "source": [
    "series = interactions[['user_id', 'item_id']]\\\n",
    "                .join(items[['content_type', 'item_id']]\\\n",
    "                .set_index('item_id'), on='item_id')\n",
    "\n",
    "series['content_type'] = series['content_type'] == 'series'\n",
    "\n",
    "series = series[['user_id', 'content_type']]\\\n",
    "                .groupby('user_id')\\\n",
    "                .sum()\\\n",
    "                .rename(columns={'content_type': 'series_cnt'})\n",
    "\n",
    "users = users.merge(series, how='inner', on=['user_id'])"
   ]
  },
  {
   "cell_type": "code",
   "execution_count": 5,
   "id": "6a21db9a",
   "metadata": {},
   "outputs": [],
   "source": [
    "df = users[['user_id', 'income', 'total_dur', 'series_cnt']]"
   ]
  },
  {
   "cell_type": "code",
   "execution_count": 6,
   "id": "445426a1",
   "metadata": {},
   "outputs": [],
   "source": [
    "df.dropna(inplace=True)"
   ]
  },
  {
   "cell_type": "markdown",
   "id": "d6e349a5",
   "metadata": {},
   "source": [
    "Оставим пользователей с количеством фильмов до 10 включительно."
   ]
  },
  {
   "cell_type": "code",
   "execution_count": 7,
   "id": "4677364d",
   "metadata": {},
   "outputs": [],
   "source": [
    "df = df[df['series_cnt'] >= 1]"
   ]
  },
  {
   "cell_type": "code",
   "execution_count": 8,
   "id": "16e794c0",
   "metadata": {},
   "outputs": [
    {
     "data": {
      "text/html": [
       "<div>\n",
       "<style scoped>\n",
       "    .dataframe tbody tr th:only-of-type {\n",
       "        vertical-align: middle;\n",
       "    }\n",
       "\n",
       "    .dataframe tbody tr th {\n",
       "        vertical-align: top;\n",
       "    }\n",
       "\n",
       "    .dataframe thead th {\n",
       "        text-align: right;\n",
       "    }\n",
       "</style>\n",
       "<table border=\"1\" class=\"dataframe\">\n",
       "  <thead>\n",
       "    <tr style=\"text-align: right;\">\n",
       "      <th></th>\n",
       "      <th>user_id</th>\n",
       "      <th>income</th>\n",
       "      <th>total_dur</th>\n",
       "      <th>series_cnt</th>\n",
       "    </tr>\n",
       "  </thead>\n",
       "  <tbody>\n",
       "    <tr>\n",
       "      <th>0</th>\n",
       "      <td>973171</td>\n",
       "      <td>income_60_90</td>\n",
       "      <td>53159.80</td>\n",
       "      <td>2</td>\n",
       "    </tr>\n",
       "    <tr>\n",
       "      <th>1</th>\n",
       "      <td>962099</td>\n",
       "      <td>income_20_40</td>\n",
       "      <td>7666.71</td>\n",
       "      <td>7</td>\n",
       "    </tr>\n",
       "    <tr>\n",
       "      <th>4</th>\n",
       "      <td>1037719</td>\n",
       "      <td>income_60_90</td>\n",
       "      <td>8218.33</td>\n",
       "      <td>1</td>\n",
       "    </tr>\n",
       "    <tr>\n",
       "      <th>5</th>\n",
       "      <td>846063</td>\n",
       "      <td>income_40_60</td>\n",
       "      <td>14281.80</td>\n",
       "      <td>5</td>\n",
       "    </tr>\n",
       "    <tr>\n",
       "      <th>6</th>\n",
       "      <td>401219</td>\n",
       "      <td>income_40_60</td>\n",
       "      <td>2917.00</td>\n",
       "      <td>1</td>\n",
       "    </tr>\n",
       "    <tr>\n",
       "      <th>...</th>\n",
       "      <td>...</td>\n",
       "      <td>...</td>\n",
       "      <td>...</td>\n",
       "      <td>...</td>\n",
       "    </tr>\n",
       "    <tr>\n",
       "      <th>744275</th>\n",
       "      <td>848247</td>\n",
       "      <td>income_20_40</td>\n",
       "      <td>236.50</td>\n",
       "      <td>4</td>\n",
       "    </tr>\n",
       "    <tr>\n",
       "      <th>744276</th>\n",
       "      <td>393311</td>\n",
       "      <td>income_20_40</td>\n",
       "      <td>3151.00</td>\n",
       "      <td>1</td>\n",
       "    </tr>\n",
       "    <tr>\n",
       "      <th>744277</th>\n",
       "      <td>374327</td>\n",
       "      <td>income_20_40</td>\n",
       "      <td>4026.33</td>\n",
       "      <td>1</td>\n",
       "    </tr>\n",
       "    <tr>\n",
       "      <th>744281</th>\n",
       "      <td>1021167</td>\n",
       "      <td>income_20_40</td>\n",
       "      <td>103.00</td>\n",
       "      <td>1</td>\n",
       "    </tr>\n",
       "    <tr>\n",
       "      <th>744284</th>\n",
       "      <td>393868</td>\n",
       "      <td>income_20_40</td>\n",
       "      <td>2819.00</td>\n",
       "      <td>5</td>\n",
       "    </tr>\n",
       "  </tbody>\n",
       "</table>\n",
       "<p>412985 rows × 4 columns</p>\n",
       "</div>"
      ],
      "text/plain": [
       "        user_id        income  total_dur  series_cnt\n",
       "0        973171  income_60_90   53159.80           2\n",
       "1        962099  income_20_40    7666.71           7\n",
       "4       1037719  income_60_90    8218.33           1\n",
       "5        846063  income_40_60   14281.80           5\n",
       "6        401219  income_40_60    2917.00           1\n",
       "...         ...           ...        ...         ...\n",
       "744275   848247  income_20_40     236.50           4\n",
       "744276   393311  income_20_40    3151.00           1\n",
       "744277   374327  income_20_40    4026.33           1\n",
       "744281  1021167  income_20_40     103.00           1\n",
       "744284   393868  income_20_40    2819.00           5\n",
       "\n",
       "[412985 rows x 4 columns]"
      ]
     },
     "execution_count": 8,
     "metadata": {},
     "output_type": "execute_result"
    }
   ],
   "source": [
    "df"
   ]
  },
  {
   "cell_type": "markdown",
   "id": "b47fcbf2",
   "metadata": {},
   "source": [
    "### Задача 1. Сформируем двухвыборочные гипотезы касательно медиан и распределений для дискретного и непрерывного случая. "
   ]
  },
  {
   "cell_type": "markdown",
   "id": "bf785123",
   "metadata": {},
   "source": [
    "**Дискретный случай:**\n",
    "\n",
    "1. *Гипотеза о равенстве медиан:*\n",
    "   - Дискретная переменная: количество просмотров сериалов в онлайн-кинотеатре.\n",
    "   - Нулевая гипотеза(H0): \"Медианы количества просмотров сериалов для двух групп равны.\"\n",
    "   - Альтернативная гипотеза(H1): \"Медианы количества просмотров сериалов для двух групп не равны.\"\n",
    "   \n",
    "Для проверки этой гипотезы можно использовать непараметрический критерий Манна-Уитни (Mann-Whitney U test). Этот тест позволяет сравнивать медианы двух независимых выборок и не требует предположений о распределении данных.\n",
    "\n",
    "2. *Гипотеза о равенстве распределений:*\n",
    "   - Дискретная переменная: количество просмотров сериалов в онлайн-кинотеатре.\n",
    "   - Нулевая гипотеза(H0): \"Количество просмотренных сериалов распределено одинаково для двух групп пользователей.\"\n",
    "   - Альтернативная гипотеза(H1): \"Количество просмотренных сериалов распределено не одинаково для двух групп пользователей.\"\n",
    "   \n",
    "Для проверки этой гипотезы можно использовать критерий Хи-квадрат. Критерий Хи-квадрат подходит для сравнения распределений категориальных переменных, в данном случае - количество просмотров сериалов, и позволяет оценить статистическую значимость различий между ними.\n",
    "\n",
    "**Непрерывный случай:**\n",
    "\n",
    "3. *Гипотеза о равенстве медиан:*\n",
    "   - Непрерывная переменная: продолжительность просмотра фильмов в онлайн-кинотеатре в секундах.\n",
    "   - Нулевая гипотеза(H0): \"Медианы продолжительности просмотра фильмов для двух групп равны.\"\n",
    "   - Альтернативная гипотеза(H1): \"Медианы продолжительности просмотра фильмов для двух групп не равны.\"\n",
    "   \n",
    "Для проверки этой гипотезы также можно использовать непараметрический критерий Манна-Уитни (Mann-Whitney U test).\n",
    "\n",
    "4. *Гипотеза о равенстве распределений:*\n",
    "   - Непрерывная переменная: продолжительность просмотра фильмов в онлайн-кинотеатре в секундах.\n",
    "   - Нулевая гипотеза(H0): \"Продолжительность просмотра контента распределена одинаково для двух групп пользователей.\"\n",
    "   - Альтернативная гипотеза(H1): \"Продолжительность просмотра контента распределена не одинаково для двух групп пользователей.\"\n",
    "   \n",
    "Для проверки этой гипотезы можно использовать критерий Колмогорова-Смирнова, так как он позволяет сравнить два эмпирических распределения и оценить значимость различий между ними."
   ]
  },
  {
   "cell_type": "markdown",
   "id": "9a7ed347",
   "metadata": {},
   "source": [
    "### Задача 2. Проверка гипотез релевантными тестами. "
   ]
  },
  {
   "cell_type": "markdown",
   "id": "3786575e",
   "metadata": {},
   "source": [
    "Возьмем 2 группы пользователей с различным уровнем дохода и для них проверим гипотезы приведенные выше:\n",
    "* с зарплатой от 40 до 60 тысяч рублей - income_40_60\n",
    "* с зарплатой от 60 до 90 тысяч рублей - income_60_90"
   ]
  },
  {
   "cell_type": "markdown",
   "id": "5055e655",
   "metadata": {},
   "source": [
    "*Проверка 1 гипотезы с помощью критерия Манна-Уитни:*"
   ]
  },
  {
   "cell_type": "code",
   "execution_count": 9,
   "id": "0599a83e",
   "metadata": {},
   "outputs": [
    {
     "data": {
      "text/plain": [
       "0.24803438713541592"
      ]
     },
     "execution_count": 9,
     "metadata": {},
     "output_type": "execute_result"
    }
   ],
   "source": [
    "_, p_val = sts.mannwhitneyu(df[df['income'] == 'income_40_60']['series_cnt'].sample(10_000), \n",
    "                                  df[df['income'] == 'income_60_90']['series_cnt'].sample(10_000))\n",
    "p_val"
   ]
  },
  {
   "cell_type": "markdown",
   "id": "243e3a74",
   "metadata": {},
   "source": [
    "*Вывод: поскольку p > 0.05, следовательно медианы распределений равны.*"
   ]
  },
  {
   "cell_type": "markdown",
   "id": "11124064",
   "metadata": {},
   "source": [
    "*Проверка 2 гипотезы с помощью критерия Хи-квадрат:*"
   ]
  },
  {
   "cell_type": "code",
   "execution_count": 10,
   "id": "b0b412f0",
   "metadata": {},
   "outputs": [
    {
     "data": {
      "image/png": "[encoded data removed]",
      "text/plain": [
       "<Figure size 640x480 with 1 Axes>"
      ]
     },
     "metadata": {},
     "output_type": "display_data"
    }
   ],
   "source": [
    "sns.histplot(data=df[(df['income'] == 'income_40_60') | (df['income'] == 'income_60_90')].sample(10_000),\n",
    "             bins=50,\n",
    "             x='series_cnt',\n",
    "             hue='income',\n",
    "             multiple=\"dodge\")\n",
    "plt.show()"
   ]
  },
  {
   "cell_type": "code",
   "execution_count": 12,
   "id": "67327740",
   "metadata": {},
   "outputs": [
    {
     "data": {
      "text/plain": [
       "1.0"
      ]
     },
     "execution_count": 12,
     "metadata": {},
     "output_type": "execute_result"
    }
   ],
   "source": [
    "chi2, p_val, _, _ = sts.chi2_contingency(df[df['income'] == 'income_40_60']['series_cnt'].sample(10_000).values, df[df['income'] == 'income_60_90']['series_cnt'].sample(10_000).values)\n",
    "p_val"
   ]
  },
  {
   "cell_type": "markdown",
   "id": "e698f972",
   "metadata": {},
   "source": [
    "*Вывод: поскольку p > 0.05, следовательно количество просмотренных сериалов распределено одинаково для двух групп пользователей, в чем можно убедиться и визульно, по графику, приведенному выше.*"
   ]
  },
  {
   "cell_type": "markdown",
   "id": "444c11e3",
   "metadata": {},
   "source": [
    "*Проверка 3 гипотезы с помощью критерия Манна-Уитни:*"
   ]
  },
  {
   "cell_type": "code",
   "execution_count": 13,
   "id": "9cd236cc",
   "metadata": {},
   "outputs": [
    {
     "data": {
      "text/plain": [
       "6.804009172965869e-55"
      ]
     },
     "execution_count": 13,
     "metadata": {},
     "output_type": "execute_result"
    }
   ],
   "source": [
    "_, p_val = sts.mannwhitneyu(df[df['income'] == 'income_40_60']['total_dur'], \n",
    "                                  df[df['income'] == 'income_60_90']['total_dur'])\n",
    "p_val"
   ]
  },
  {
   "cell_type": "markdown",
   "id": "3f7625a1",
   "metadata": {},
   "source": [
    "*Вывод: поскольку p < 0.05, следовательно медианы распределений не равны.*"
   ]
  },
  {
   "cell_type": "markdown",
   "id": "787357f2",
   "metadata": {},
   "source": [
    "*Проверка 4 гипотезы с помощью критерия Колмогорова-Смирнова:*"
   ]
  },
  {
   "cell_type": "code",
   "execution_count": 14,
   "id": "eca743ff",
   "metadata": {},
   "outputs": [
    {
     "data": {
      "text/plain": [
       "3.226230828500651e-51"
      ]
     },
     "execution_count": 14,
     "metadata": {},
     "output_type": "execute_result"
    }
   ],
   "source": [
    "_, p_val = sts.ks_2samp(df[df['income'] == 'income_40_60']['total_dur'], \n",
    "                                  df[df['income'] == 'income_60_90']['total_dur'])\n",
    "p_val"
   ]
  },
  {
   "cell_type": "markdown",
   "id": "bcd5a4ed",
   "metadata": {},
   "source": [
    "*Вывод: поскольку p < 0.05, следовательно продолжительность просмотра контента распределена не одинаково для двух групп пользователей.*"
   ]
  },
  {
   "cell_type": "markdown",
   "id": "99cfd87f",
   "metadata": {},
   "source": [
    "### Задача 3. Проверка результатов с бутстрапом."
   ]
  },
  {
   "cell_type": "markdown",
   "id": "9e84460c",
   "metadata": {},
   "source": [
    "Теперь проверим для этих же категорий пользователей гипотезы с помощью бутстрапа. Для этого напишем функцию для выполнения проверки равенства медиан с помощью бутстрапа."
   ]
  },
  {
   "cell_type": "code",
   "execution_count": 15,
   "id": "63d75ffe",
   "metadata": {},
   "outputs": [],
   "source": [
    "# Функция для вычисления статистики\n",
    "def compute_statistic_median(data1, data2):\n",
    "    # Вычисление разности медиан\n",
    "    median_diff = np.median(data1) - np.median(data2)\n",
    "    return median_diff\n",
    "\n",
    "# Функция для выполнения бутстрапа\n",
    "def bootstrap_median(data1, data2, statistic_func, iterations=1000):\n",
    "    combined_data = np.concatenate((data1, data2))\n",
    "    observed_statistic = statistic_func(data1, data2)\n",
    "    bootstrap_stats = []\n",
    "    for _ in range(iterations):\n",
    "        # Перемешиваем данные и случайным образом делим на две группы\n",
    "        permuted_data = np.random.permutation(combined_data)\n",
    "        permuted_group1 = permuted_data[:len(data1)]\n",
    "        permuted_group2 = permuted_data[len(data1):]\n",
    "        # Вычисляем статистику на каждой итерации\n",
    "        bootstrap_stat = statistic_func(permuted_group1, permuted_group2)\n",
    "        bootstrap_stats.append(bootstrap_stat)\n",
    "    # Вычисляем p-значение\n",
    "    p_value = np.mean(np.abs(bootstrap_stats) >= np.abs(observed_statistic))\n",
    "    return p_value"
   ]
  },
  {
   "cell_type": "markdown",
   "id": "db88b1d6",
   "metadata": {},
   "source": [
    "А также функцию для выполнения проверки равенства распределений с помощью бутстрапа."
   ]
  },
  {
   "cell_type": "code",
   "execution_count": 16,
   "id": "bf45ac96",
   "metadata": {},
   "outputs": [],
   "source": [
    "# Функция для вычисления статистики\n",
    "def compute_statistic_mean(data1, data2):\n",
    "    # Вычисление разности средних\n",
    "    mean_diff = np.mean(data1) - np.mean(data2)\n",
    "    return mean_diff\n",
    "\n",
    "# Функция для выполнения бутстрапа\n",
    "def bootstrap_mean(data1, data2, statistic_func, iterations=1000):\n",
    "    combined_data = np.concatenate((data1, data2))\n",
    "    observed_statistic = statistic_func(data1, data2)\n",
    "    bootstrap_stats = []\n",
    "    for _ in range(iterations):\n",
    "        # Перемешиваем данные и случайным образом делим на две группы\n",
    "        permuted_data = np.random.permutation(combined_data)\n",
    "        permuted_group1 = permuted_data[:len(data1)]\n",
    "        permuted_group2 = permuted_data[len(data1):]\n",
    "        # Вычисляем статистику на каждой итерации\n",
    "        bootstrap_stat = statistic_func(permuted_group1, permuted_group2)\n",
    "        bootstrap_stats.append(bootstrap_stat)\n",
    "    # Вычисляем p-значение\n",
    "    p_value = np.mean(np.abs(bootstrap_stats) >= np.abs(observed_statistic))\n",
    "    return p_value"
   ]
  },
  {
   "cell_type": "markdown",
   "id": "a9de4dea",
   "metadata": {},
   "source": [
    "*Проверка 1 гипотезы с помощью бутстрапа:*"
   ]
  },
  {
   "cell_type": "code",
   "execution_count": 17,
   "id": "2a409c8d",
   "metadata": {},
   "outputs": [],
   "source": [
    "data_group1 = df[df['income'] == 'income_40_60']['series_cnt']\n",
    "data_group2 = df[df['income'] == 'income_60_90']['series_cnt']"
   ]
  },
  {
   "cell_type": "code",
   "execution_count": 18,
   "id": "ab3607c3",
   "metadata": {},
   "outputs": [
    {
     "name": "stdout",
     "output_type": "stream",
     "text": [
      "P-value: 1.0\n"
     ]
    }
   ],
   "source": [
    "# Вызываем функцию бутстрапа и выводим результат\n",
    "p_value = bootstrap_median(data_group1, data_group2, compute_statistic_median)\n",
    "print(f\"P-value: {p_value}\")"
   ]
  },
  {
   "cell_type": "markdown",
   "id": "0cd93ea2",
   "metadata": {},
   "source": [
    "*Проверка 2 гипотезы с помощью бутстрапа:*"
   ]
  },
  {
   "cell_type": "code",
   "execution_count": 19,
   "id": "6a412ce3",
   "metadata": {},
   "outputs": [
    {
     "name": "stdout",
     "output_type": "stream",
     "text": [
      "P-value: 0.001\n"
     ]
    }
   ],
   "source": [
    "# Вызываем функцию бутстрапа и выводим результат\n",
    "p_value = bootstrap_mean(data_group1, data_group2, compute_statistic_mean)\n",
    "print(f\"P-value: {p_value}\")"
   ]
  },
  {
   "cell_type": "markdown",
   "id": "0ee39ea5",
   "metadata": {},
   "source": [
    "*Проверка 3 гипотезы с помощью бутстрапа:*"
   ]
  },
  {
   "cell_type": "code",
   "execution_count": 20,
   "id": "053b5c3a",
   "metadata": {},
   "outputs": [],
   "source": [
    "data_group1 = df[df['income'] == 'income_40_60']['total_dur']\n",
    "data_group2 = df[df['income'] == 'income_60_90']['total_dur']"
   ]
  },
  {
   "cell_type": "code",
   "execution_count": 22,
   "id": "9c587978",
   "metadata": {},
   "outputs": [
    {
     "name": "stdout",
     "output_type": "stream",
     "text": [
      "P-value: 0.0\n"
     ]
    }
   ],
   "source": [
    "# Вызываем функцию бутстрапа и выводим результат\n",
    "p_value = bootstrap_median(data_group1, data_group2, compute_statistic_median)\n",
    "print(f\"P-value: {p_value}\")"
   ]
  },
  {
   "cell_type": "markdown",
   "id": "9c3805e7",
   "metadata": {},
   "source": [
    "*Проверка 4 гипотезы с помощью бутстрапа:*"
   ]
  },
  {
   "cell_type": "code",
   "execution_count": 23,
   "id": "632c5d32",
   "metadata": {},
   "outputs": [
    {
     "name": "stdout",
     "output_type": "stream",
     "text": [
      "P-value: 0.0\n"
     ]
    }
   ],
   "source": [
    "# Вызываем функцию бутстрапа и выводим результат\n",
    "p_value = bootstrap_mean(data_group1, data_group2, compute_statistic_mean)\n",
    "print(f\"P-value: {p_value}\")"
   ]
  },
  {
   "cell_type": "markdown",
   "id": "0ce3f97e",
   "metadata": {},
   "source": [
    "### Подведение итогов."
   ]
  },
  {
   "cell_type": "markdown",
   "id": "ba21a68b",
   "metadata": {},
   "source": [
    "Сравнивая результаты из 4 пунктов с результатами бутстрапа можно выделить следующее:\n",
    "* Значимые различия есть только во 2 гипотезе: проверка с помощью Хи-квадрат критерия утверждает, что распределения одинаковы, бутстрап же - наоборот, что может объясняться тем что выборки не сбалансированы, но при использовании Хи-квадрат критерия мы вынуждены фиксировать размер выборки, а при бутстрапе - нет.\n",
    "* В остальном же, бутстрап подтверждает значения полученные с помощью критериев.\n",
    "* Если данные имеют непрерывное распределение симметричные и сосредоточенные вокруг медиан, то бутстрап может быть более мощным, так как он не требует предположений о распределении и обеспечивает точную оценку статистической значимости. Однако, если данные не соответствуют предположениям бутстрапа, то использование других подходов, например, критерия Манна-Уитни, может быть предпочтительнее."
   ]
  }
 ],
 "metadata": {
  "kernelspec": {
   "display_name": "Python 3 (ipykernel)",
   "language": "python",
   "name": "python3"
  },
  "language_info": {
   "codemirror_mode": {
    "name": "ipython",
    "version": 3
   },
   "file_extension": ".py",
   "mimetype": "text/x-python",
   "name": "python",
   "nbconvert_exporter": "python",
   "pygments_lexer": "ipython3",
   "version": "3.11.5"
  }
 },
 "nbformat": 4,
 "nbformat_minor": 5
}
