{
 "cells": [
  {
   "cell_type": "markdown",
   "id": "79bdf202",
   "metadata": {},
   "source": [
    "<h1 style=\"text-align: center;\">Домашнее задание №6</h1>"
   ]
  },
  {
   "cell_type": "markdown",
   "id": "2f6cc2f2",
   "metadata": {},
   "source": [
    "Необходимо подготовить отчет с результатами применения обсужденных на лекции методов к произвольным данным, которые вы найдете в свободном доступе.\n",
    "\n",
    "1) На платформе Kaggle или на Github найдите достаточно большой датасет с логами пользования сервисов (просмотры Youtube или стриминговых сервисов, такси/каршеринг или что угодно, где есть много юзеров и история их взаимодействия с каким-нибудь сервисом). В случае, если такого датасета нет - сгенерируйте самостоятельно (например, как на лекции было показано распределение по просмотру в Кион).\n",
    "2) Разбейте на сегменты вашу аудиторию и примените для нескольких (примерно 3-4 метрики) метрик тесты Стьюдента, Манна-Уитни, Фишера (Фишера для нескольких сегментов). Проинтерпретируйте результаты, сделайте первые выводы.\n",
    "3) Для >=3 сегментов сделайте попарные сравнения через тест Стьюдента и тест Фишера. Проверьте соотносятся ли результаты.\n",
    "4) Постройте точный и эфронов доверительные интервал для выбранных метрик. Проверьте соответствуют ли эти доверительные интервалы результатам теста Стьюдента.\n",
    "5) Подумайте, можно ли использовать в пункте 2 другие стат. тесты. Приведите пару примеров."
   ]
  },
  {
   "cell_type": "code",
   "execution_count": 1,
   "id": "12b6087e",
   "metadata": {},
   "outputs": [],
   "source": [
    "# Импортируем необходимые библиотеки\n",
    "from itertools import combinations\n",
    "import numpy as np\n",
    "import pandas as pd\n",
    "pd.options.mode.chained_assignment = None  # default='warn'\n",
    "import scipy.stats as sts\n",
    "from scipy.stats import ttest_ind, mannwhitneyu, norm, shapiro, normaltest, ttest_ind_from_stats\n",
    "\n",
    "import matplotlib.pyplot as plt\n",
    "import seaborn as sns\n",
    "plt.style.use('ggplot')\n",
    "%matplotlib inline\n",
    "\n",
    "from warnings import simplefilter"
   ]
  },
  {
   "cell_type": "markdown",
   "id": "4f96a8ba",
   "metadata": {},
   "source": [
    "## Задача 1.  Найдем достаточно большой датасет с логами пользования сервисов."
   ]
  },
  {
   "cell_type": "markdown",
   "id": "ec104705",
   "metadata": {},
   "source": [
    "Я взял датасет, представляющий собой данные из приложения МТС Kion по взаимодействиям пользователей с контентом за период 6 месяцев (платформа ODS - https://ods.ai/competitions/competition-recsys-21). Я выбрал следующие метрики:\n",
    "* total_dur - общая продолжительность всех просмотров данного контента в секундах.\n",
    "* watched_pct - процент \"досматриваемости\" контента.\n",
    "* series_cnt - количество просмотренных сериалов.\n",
    "\n",
    "Первый и второй признаки необходимо усреднить для каждого пользователя, а третий - искусственно создать на основе данных из датасета interactions."
   ]
  },
  {
   "cell_type": "code",
   "execution_count": 2,
   "id": "a4f31502",
   "metadata": {},
   "outputs": [],
   "source": [
    "users = pd.read_csv('users.csv')\n",
    "interactions = pd.read_csv('interactions.csv')\n",
    "items = pd.read_csv('items.csv')"
   ]
  },
  {
   "cell_type": "code",
   "execution_count": 3,
   "id": "eb974f6a",
   "metadata": {},
   "outputs": [],
   "source": [
    "watched_pct = interactions[['user_id', 'watched_pct']]\\\n",
    "                        .groupby('user_id')\\\n",
    "                        .mean()\n",
    "\n",
    "users = users.merge(watched_pct, how='inner', on=['user_id'])\n",
    "users['watched_pct'] = round(users['watched_pct'], 2) "
   ]
  },
  {
   "cell_type": "code",
   "execution_count": 4,
   "id": "55f0f016",
   "metadata": {},
   "outputs": [],
   "source": [
    "series = interactions[['user_id', 'item_id']]\\\n",
    "                .join(items[['content_type', 'item_id']]\\\n",
    "                .set_index('item_id'), on='item_id')\n",
    "\n",
    "series['content_type'] = series['content_type'] == 'series'\n",
    "\n",
    "series = series[['user_id', 'content_type']]\\\n",
    "                .groupby('user_id')\\\n",
    "                .sum()\\\n",
    "                .rename(columns={'content_type': 'series_cnt'})\n",
    "\n",
    "users = users.merge(series, how='inner', on=['user_id'])"
   ]
  },
  {
   "cell_type": "code",
   "execution_count": 5,
   "id": "f517e121",
   "metadata": {},
   "outputs": [],
   "source": [
    "total_dur = interactions[['user_id', 'total_dur']]\\\n",
    "                        .groupby('user_id')\\\n",
    "                        .mean()\n",
    "users = users.merge(total_dur, how='inner', on=['user_id'])\n",
    "users['total_dur'] = round(users['total_dur'], 2) "
   ]
  },
  {
   "cell_type": "code",
   "execution_count": 6,
   "id": "84f64b27",
   "metadata": {},
   "outputs": [],
   "source": [
    "df = users[['user_id', 'income', 'total_dur', 'watched_pct', 'series_cnt']]"
   ]
  },
  {
   "cell_type": "code",
   "execution_count": 7,
   "id": "8e3be3bb",
   "metadata": {},
   "outputs": [],
   "source": [
    "df.dropna(inplace=True)"
   ]
  },
  {
   "cell_type": "code",
   "execution_count": 8,
   "id": "77c0dc8c",
   "metadata": {},
   "outputs": [
    {
     "data": {
      "text/html": [
       "<div>\n",
       "<style scoped>\n",
       "    .dataframe tbody tr th:only-of-type {\n",
       "        vertical-align: middle;\n",
       "    }\n",
       "\n",
       "    .dataframe tbody tr th {\n",
       "        vertical-align: top;\n",
       "    }\n",
       "\n",
       "    .dataframe thead th {\n",
       "        text-align: right;\n",
       "    }\n",
       "</style>\n",
       "<table border=\"1\" class=\"dataframe\">\n",
       "  <thead>\n",
       "    <tr style=\"text-align: right;\">\n",
       "      <th></th>\n",
       "      <th>user_id</th>\n",
       "      <th>income</th>\n",
       "      <th>total_dur</th>\n",
       "      <th>watched_pct</th>\n",
       "      <th>series_cnt</th>\n",
       "    </tr>\n",
       "  </thead>\n",
       "  <tbody>\n",
       "    <tr>\n",
       "      <th>0</th>\n",
       "      <td>973171</td>\n",
       "      <td>income_60_90</td>\n",
       "      <td>53159.80</td>\n",
       "      <td>61.00</td>\n",
       "      <td>2</td>\n",
       "    </tr>\n",
       "    <tr>\n",
       "      <th>1</th>\n",
       "      <td>962099</td>\n",
       "      <td>income_20_40</td>\n",
       "      <td>7666.71</td>\n",
       "      <td>45.50</td>\n",
       "      <td>7</td>\n",
       "    </tr>\n",
       "    <tr>\n",
       "      <th>2</th>\n",
       "      <td>721985</td>\n",
       "      <td>income_20_40</td>\n",
       "      <td>3150.22</td>\n",
       "      <td>42.56</td>\n",
       "      <td>0</td>\n",
       "    </tr>\n",
       "    <tr>\n",
       "      <th>3</th>\n",
       "      <td>704055</td>\n",
       "      <td>income_60_90</td>\n",
       "      <td>993.40</td>\n",
       "      <td>13.90</td>\n",
       "      <td>0</td>\n",
       "    </tr>\n",
       "    <tr>\n",
       "      <th>4</th>\n",
       "      <td>1037719</td>\n",
       "      <td>income_60_90</td>\n",
       "      <td>8218.33</td>\n",
       "      <td>76.67</td>\n",
       "      <td>1</td>\n",
       "    </tr>\n",
       "    <tr>\n",
       "      <th>...</th>\n",
       "      <td>...</td>\n",
       "      <td>...</td>\n",
       "      <td>...</td>\n",
       "      <td>...</td>\n",
       "      <td>...</td>\n",
       "    </tr>\n",
       "    <tr>\n",
       "      <th>744281</th>\n",
       "      <td>1021167</td>\n",
       "      <td>income_20_40</td>\n",
       "      <td>103.00</td>\n",
       "      <td>0.00</td>\n",
       "      <td>1</td>\n",
       "    </tr>\n",
       "    <tr>\n",
       "      <th>744282</th>\n",
       "      <td>312839</td>\n",
       "      <td>income_60_90</td>\n",
       "      <td>888.00</td>\n",
       "      <td>14.00</td>\n",
       "      <td>0</td>\n",
       "    </tr>\n",
       "    <tr>\n",
       "      <th>744283</th>\n",
       "      <td>191349</td>\n",
       "      <td>income_40_60</td>\n",
       "      <td>3466.00</td>\n",
       "      <td>57.00</td>\n",
       "      <td>0</td>\n",
       "    </tr>\n",
       "    <tr>\n",
       "      <th>744284</th>\n",
       "      <td>393868</td>\n",
       "      <td>income_20_40</td>\n",
       "      <td>2819.00</td>\n",
       "      <td>13.43</td>\n",
       "      <td>5</td>\n",
       "    </tr>\n",
       "    <tr>\n",
       "      <th>744285</th>\n",
       "      <td>339025</td>\n",
       "      <td>income_0_20</td>\n",
       "      <td>36.00</td>\n",
       "      <td>1.00</td>\n",
       "      <td>0</td>\n",
       "    </tr>\n",
       "  </tbody>\n",
       "</table>\n",
       "<p>734670 rows × 5 columns</p>\n",
       "</div>"
      ],
      "text/plain": [
       "        user_id        income  total_dur  watched_pct  series_cnt\n",
       "0        973171  income_60_90   53159.80        61.00           2\n",
       "1        962099  income_20_40    7666.71        45.50           7\n",
       "2        721985  income_20_40    3150.22        42.56           0\n",
       "3        704055  income_60_90     993.40        13.90           0\n",
       "4       1037719  income_60_90    8218.33        76.67           1\n",
       "...         ...           ...        ...          ...         ...\n",
       "744281  1021167  income_20_40     103.00         0.00           1\n",
       "744282   312839  income_60_90     888.00        14.00           0\n",
       "744283   191349  income_40_60    3466.00        57.00           0\n",
       "744284   393868  income_20_40    2819.00        13.43           5\n",
       "744285   339025   income_0_20      36.00         1.00           0\n",
       "\n",
       "[734670 rows x 5 columns]"
      ]
     },
     "execution_count": 8,
     "metadata": {},
     "output_type": "execute_result"
    }
   ],
   "source": [
    "df"
   ]
  },
  {
   "cell_type": "markdown",
   "id": "4a5693b8",
   "metadata": {},
   "source": [
    "## Задача 2.  Разбьем на сегменты нашу аудиторию и применим для нескольких метрик тесты Стьюдента, Манна-Уитни, Фишера (Фишера для нескольких сегментов)."
   ]
  },
  {
   "cell_type": "markdown",
   "id": "498fd744",
   "metadata": {},
   "source": [
    "Для теста Стьюдента и Манна-Уитни в качестве сегмента выберем income - доход пользователя: income_20_40 и income_60_90, метки метрик сложим в список. "
   ]
  },
  {
   "cell_type": "code",
   "execution_count": 9,
   "id": "77d7e5ea",
   "metadata": {},
   "outputs": [],
   "source": [
    "metrics = ['total_dur',\n",
    "           'watched_pct',\n",
    "           'series_cnt']"
   ]
  },
  {
   "cell_type": "markdown",
   "id": "14b26b70",
   "metadata": {},
   "source": [
    "### Тест Стьюдента"
   ]
  },
  {
   "cell_type": "code",
   "execution_count": 10,
   "id": "295a69f5",
   "metadata": {},
   "outputs": [
    {
     "name": "stdout",
     "output_type": "stream",
     "text": [
      "total_dur: 5.6003006536731104e-108\n",
      "watched_pct: 5.116590534811744e-112\n",
      "series_cnt: 2.234353480393477e-37\n"
     ]
    }
   ],
   "source": [
    "for metric in metrics:\n",
    "    _, p_val = sts.ttest_ind(df[df['income'] == 'income_20_40'][metric], \n",
    "                               df[df['income'] == 'income_60_90'][metric])\n",
    "    print(f'{metric}: {p_val}')"
   ]
  },
  {
   "cell_type": "markdown",
   "id": "248e96c9",
   "metadata": {},
   "source": [
    "### Тест Манна-Уитни"
   ]
  },
  {
   "cell_type": "code",
   "execution_count": 11,
   "id": "fa6b955c",
   "metadata": {},
   "outputs": [
    {
     "name": "stdout",
     "output_type": "stream",
     "text": [
      "total_dur: 2.02365209848869e-229\n",
      "watched_pct: 6.398421466068334e-106\n",
      "series_cnt: 1.5850183408606397e-51\n"
     ]
    }
   ],
   "source": [
    "for metric in metrics:\n",
    "    _, p_val = sts.mannwhitneyu(df[df['income'] == 'income_20_40'][metric], \n",
    "                                  df[df['income'] == 'income_60_90'][metric])\n",
    "    print(f'{metric}: {p_val}')"
   ]
  },
  {
   "cell_type": "markdown",
   "id": "7ee7b2f1",
   "metadata": {},
   "source": [
    "### Тест Фишера (для нескольких сегментов)"
   ]
  },
  {
   "cell_type": "code",
   "execution_count": 12,
   "id": "1966e4be",
   "metadata": {},
   "outputs": [
    {
     "name": "stdout",
     "output_type": "stream",
     "text": [
      "total_dur: 9.141376798369224e-190\n",
      "watched_pct: 8.408245684879404e-248\n",
      "series_cnt: 6.709140650420913e-87\n"
     ]
    }
   ],
   "source": [
    "for metric in metrics:\n",
    "    segments = []\n",
    "    for income in df['income'].unique():\n",
    "        segments.append(df[df['income'] == f'{income}'][metric])\n",
    "    _, p_val = sts.f_oneway(*segments)\n",
    "    print(f'{metric}: {p_val}')"
   ]
  },
  {
   "cell_type": "markdown",
   "id": "28499bb3",
   "metadata": {},
   "source": [
    "### Вывод: "
   ]
  },
  {
   "cell_type": "markdown",
   "id": "461db2bd",
   "metadata": {},
   "source": [
    "* Сегменты для выбранных метрик отличаются для разных зарплатных групп.\n",
    "* Тест Манна-Уитни не подходит для сравнения средних значений, поэтому и результаты между ним и тестом Стьюдента различны.\n",
    "* Исходя из результатов теста Фишера для нескольких сегментов можно сказать, что хотя бы один сегмент отличается от других по всем метрикам."
   ]
  },
  {
   "cell_type": "markdown",
   "id": "cc18ad4e",
   "metadata": {},
   "source": [
    "## Задача 3. Для >=3 сегментов сделаем попарные сравнения через тест Стьюдента и тест Фишера."
   ]
  },
  {
   "cell_type": "markdown",
   "id": "35124833",
   "metadata": {},
   "source": [
    "### Тест Стьюдента"
   ]
  },
  {
   "cell_type": "code",
   "execution_count": 13,
   "id": "63249ea0",
   "metadata": {},
   "outputs": [
    {
     "data": {
      "text/html": [
       "<div>\n",
       "<style scoped>\n",
       "    .dataframe tbody tr th:only-of-type {\n",
       "        vertical-align: middle;\n",
       "    }\n",
       "\n",
       "    .dataframe tbody tr th {\n",
       "        vertical-align: top;\n",
       "    }\n",
       "\n",
       "    .dataframe thead th {\n",
       "        text-align: right;\n",
       "    }\n",
       "</style>\n",
       "<table border=\"1\" class=\"dataframe\">\n",
       "  <thead>\n",
       "    <tr style=\"text-align: right;\">\n",
       "      <th></th>\n",
       "      <th>Пара</th>\n",
       "      <th>Количество просмотров сериалов</th>\n",
       "      <th>Средний процент просмотренности контента</th>\n",
       "      <th>Средняя длительность просмотра</th>\n",
       "    </tr>\n",
       "  </thead>\n",
       "  <tbody>\n",
       "    <tr>\n",
       "      <th>0</th>\n",
       "      <td>income_60_90 - income_20_40</td>\n",
       "      <td>2.234353e-37</td>\n",
       "      <td>5.116591e-112</td>\n",
       "      <td>5.600301e-108</td>\n",
       "    </tr>\n",
       "    <tr>\n",
       "      <th>1</th>\n",
       "      <td>income_60_90 - income_40_60</td>\n",
       "      <td>8.180710e-10</td>\n",
       "      <td>3.188261e-24</td>\n",
       "      <td>8.101391e-41</td>\n",
       "    </tr>\n",
       "    <tr>\n",
       "      <th>2</th>\n",
       "      <td>income_60_90 - income_90_150</td>\n",
       "      <td>1.187686e-09</td>\n",
       "      <td>2.797037e-11</td>\n",
       "      <td>3.886018e-08</td>\n",
       "    </tr>\n",
       "    <tr>\n",
       "      <th>3</th>\n",
       "      <td>income_60_90 - income_0_20</td>\n",
       "      <td>8.151600e-01</td>\n",
       "      <td>4.150762e-79</td>\n",
       "      <td>1.915937e-27</td>\n",
       "    </tr>\n",
       "    <tr>\n",
       "      <th>4</th>\n",
       "      <td>income_60_90 - income_150_inf</td>\n",
       "      <td>8.151109e-05</td>\n",
       "      <td>6.859771e-07</td>\n",
       "      <td>1.017940e-04</td>\n",
       "    </tr>\n",
       "    <tr>\n",
       "      <th>5</th>\n",
       "      <td>income_20_40 - income_40_60</td>\n",
       "      <td>3.159416e-24</td>\n",
       "      <td>1.176502e-82</td>\n",
       "      <td>2.129479e-43</td>\n",
       "    </tr>\n",
       "    <tr>\n",
       "      <th>6</th>\n",
       "      <td>income_20_40 - income_90_150</td>\n",
       "      <td>6.933876e-42</td>\n",
       "      <td>4.132237e-73</td>\n",
       "      <td>3.014753e-69</td>\n",
       "    </tr>\n",
       "    <tr>\n",
       "      <th>7</th>\n",
       "      <td>income_20_40 - income_0_20</td>\n",
       "      <td>8.189634e-13</td>\n",
       "      <td>6.965465e-16</td>\n",
       "      <td>8.079461e-01</td>\n",
       "    </tr>\n",
       "    <tr>\n",
       "      <th>8</th>\n",
       "      <td>income_20_40 - income_150_inf</td>\n",
       "      <td>2.284340e-09</td>\n",
       "      <td>4.195270e-16</td>\n",
       "      <td>2.603044e-14</td>\n",
       "    </tr>\n",
       "    <tr>\n",
       "      <th>9</th>\n",
       "      <td>income_40_60 - income_90_150</td>\n",
       "      <td>2.405498e-24</td>\n",
       "      <td>1.368052e-34</td>\n",
       "      <td>4.582440e-44</td>\n",
       "    </tr>\n",
       "    <tr>\n",
       "      <th>10</th>\n",
       "      <td>income_40_60 - income_0_20</td>\n",
       "      <td>6.252708e-04</td>\n",
       "      <td>2.066015e-48</td>\n",
       "      <td>1.735172e-07</td>\n",
       "    </tr>\n",
       "    <tr>\n",
       "      <th>11</th>\n",
       "      <td>income_40_60 - income_150_inf</td>\n",
       "      <td>4.578780e-07</td>\n",
       "      <td>7.357247e-11</td>\n",
       "      <td>1.632979e-11</td>\n",
       "    </tr>\n",
       "    <tr>\n",
       "      <th>12</th>\n",
       "      <td>income_90_150 - income_0_20</td>\n",
       "      <td>4.380525e-06</td>\n",
       "      <td>2.517627e-85</td>\n",
       "      <td>1.593579e-50</td>\n",
       "    </tr>\n",
       "    <tr>\n",
       "      <th>13</th>\n",
       "      <td>income_90_150 - income_150_inf</td>\n",
       "      <td>2.091768e-01</td>\n",
       "      <td>4.856772e-03</td>\n",
       "      <td>1.463045e-02</td>\n",
       "    </tr>\n",
       "    <tr>\n",
       "      <th>14</th>\n",
       "      <td>income_0_20 - income_150_inf</td>\n",
       "      <td>3.913576e-04</td>\n",
       "      <td>8.096567e-24</td>\n",
       "      <td>7.088633e-18</td>\n",
       "    </tr>\n",
       "  </tbody>\n",
       "</table>\n",
       "</div>"
      ],
      "text/plain": [
       "                              Пара  Количество просмотров сериалов  \\\n",
       "0      income_60_90 - income_20_40                    2.234353e-37   \n",
       "1      income_60_90 - income_40_60                    8.180710e-10   \n",
       "2     income_60_90 - income_90_150                    1.187686e-09   \n",
       "3       income_60_90 - income_0_20                    8.151600e-01   \n",
       "4    income_60_90 - income_150_inf                    8.151109e-05   \n",
       "5      income_20_40 - income_40_60                    3.159416e-24   \n",
       "6     income_20_40 - income_90_150                    6.933876e-42   \n",
       "7       income_20_40 - income_0_20                    8.189634e-13   \n",
       "8    income_20_40 - income_150_inf                    2.284340e-09   \n",
       "9     income_40_60 - income_90_150                    2.405498e-24   \n",
       "10      income_40_60 - income_0_20                    6.252708e-04   \n",
       "11   income_40_60 - income_150_inf                    4.578780e-07   \n",
       "12     income_90_150 - income_0_20                    4.380525e-06   \n",
       "13  income_90_150 - income_150_inf                    2.091768e-01   \n",
       "14    income_0_20 - income_150_inf                    3.913576e-04   \n",
       "\n",
       "    Средний процент просмотренности контента  Средняя длительность просмотра  \n",
       "0                              5.116591e-112                   5.600301e-108  \n",
       "1                               3.188261e-24                    8.101391e-41  \n",
       "2                               2.797037e-11                    3.886018e-08  \n",
       "3                               4.150762e-79                    1.915937e-27  \n",
       "4                               6.859771e-07                    1.017940e-04  \n",
       "5                               1.176502e-82                    2.129479e-43  \n",
       "6                               4.132237e-73                    3.014753e-69  \n",
       "7                               6.965465e-16                    8.079461e-01  \n",
       "8                               4.195270e-16                    2.603044e-14  \n",
       "9                               1.368052e-34                    4.582440e-44  \n",
       "10                              2.066015e-48                    1.735172e-07  \n",
       "11                              7.357247e-11                    1.632979e-11  \n",
       "12                              2.517627e-85                    1.593579e-50  \n",
       "13                              4.856772e-03                    1.463045e-02  \n",
       "14                              8.096567e-24                    7.088633e-18  "
      ]
     },
     "execution_count": 13,
     "metadata": {},
     "output_type": "execute_result"
    }
   ],
   "source": [
    "result = []\n",
    "\n",
    "for pair in combinations(df['income'].unique(), 2):\n",
    "    _, p_val_series_cnt = sts.ttest_ind(\n",
    "        df[df['income'] == f'{pair[0]}']['series_cnt'], \n",
    "        df[df['income'] == f'{pair[1]}']['series_cnt'])\n",
    "    _, p_val_watched_pct = sts.ttest_ind(\n",
    "        df[df['income'] == f'{pair[0]}']['watched_pct'], \n",
    "        df[df['income'] == f'{pair[1]}']['watched_pct'])\n",
    "    _, p_val_cnt_total_dur = sts.ttest_ind(\n",
    "        df[df['income'] == f'{pair[0]}']['total_dur'], \n",
    "        df[df['income'] == f'{pair[1]}']['total_dur'])\n",
    "    result.append({'Пара': ' - '.join(pair),\n",
    "                   'Количество просмотров сериалов': p_val_series_cnt,\n",
    "                   'Средний процент просмотренности контента': p_val_watched_pct,\n",
    "                   'Средняя длительность просмотра': p_val_cnt_total_dur})\n",
    "    \n",
    "t_test = pd.DataFrame(result)\n",
    "t_test"
   ]
  },
  {
   "cell_type": "markdown",
   "id": "940b2f47",
   "metadata": {},
   "source": [
    "### Тест Фишера"
   ]
  },
  {
   "cell_type": "code",
   "execution_count": 14,
   "id": "d22328fb",
   "metadata": {},
   "outputs": [
    {
     "data": {
      "text/html": [
       "<div>\n",
       "<style scoped>\n",
       "    .dataframe tbody tr th:only-of-type {\n",
       "        vertical-align: middle;\n",
       "    }\n",
       "\n",
       "    .dataframe tbody tr th {\n",
       "        vertical-align: top;\n",
       "    }\n",
       "\n",
       "    .dataframe thead th {\n",
       "        text-align: right;\n",
       "    }\n",
       "</style>\n",
       "<table border=\"1\" class=\"dataframe\">\n",
       "  <thead>\n",
       "    <tr style=\"text-align: right;\">\n",
       "      <th></th>\n",
       "      <th>Пара</th>\n",
       "      <th>Количество просмотров сериалов</th>\n",
       "      <th>Средний процент просмотренности контента</th>\n",
       "      <th>Средняя длительность просмотра</th>\n",
       "    </tr>\n",
       "  </thead>\n",
       "  <tbody>\n",
       "    <tr>\n",
       "      <th>0</th>\n",
       "      <td>income_60_90 - income_20_40</td>\n",
       "      <td>2.234353e-37</td>\n",
       "      <td>5.116591e-112</td>\n",
       "      <td>5.600301e-108</td>\n",
       "    </tr>\n",
       "    <tr>\n",
       "      <th>1</th>\n",
       "      <td>income_60_90 - income_40_60</td>\n",
       "      <td>8.180710e-10</td>\n",
       "      <td>3.188261e-24</td>\n",
       "      <td>8.101391e-41</td>\n",
       "    </tr>\n",
       "    <tr>\n",
       "      <th>2</th>\n",
       "      <td>income_60_90 - income_90_150</td>\n",
       "      <td>1.187686e-09</td>\n",
       "      <td>2.797037e-11</td>\n",
       "      <td>3.886018e-08</td>\n",
       "    </tr>\n",
       "    <tr>\n",
       "      <th>3</th>\n",
       "      <td>income_60_90 - income_0_20</td>\n",
       "      <td>8.151600e-01</td>\n",
       "      <td>4.150762e-79</td>\n",
       "      <td>1.915937e-27</td>\n",
       "    </tr>\n",
       "    <tr>\n",
       "      <th>4</th>\n",
       "      <td>income_60_90 - income_150_inf</td>\n",
       "      <td>8.151109e-05</td>\n",
       "      <td>6.859771e-07</td>\n",
       "      <td>1.017940e-04</td>\n",
       "    </tr>\n",
       "    <tr>\n",
       "      <th>5</th>\n",
       "      <td>income_20_40 - income_40_60</td>\n",
       "      <td>3.159416e-24</td>\n",
       "      <td>1.176502e-82</td>\n",
       "      <td>2.129479e-43</td>\n",
       "    </tr>\n",
       "    <tr>\n",
       "      <th>6</th>\n",
       "      <td>income_20_40 - income_90_150</td>\n",
       "      <td>6.933876e-42</td>\n",
       "      <td>4.132237e-73</td>\n",
       "      <td>3.014753e-69</td>\n",
       "    </tr>\n",
       "    <tr>\n",
       "      <th>7</th>\n",
       "      <td>income_20_40 - income_0_20</td>\n",
       "      <td>8.189634e-13</td>\n",
       "      <td>6.965465e-16</td>\n",
       "      <td>8.079461e-01</td>\n",
       "    </tr>\n",
       "    <tr>\n",
       "      <th>8</th>\n",
       "      <td>income_20_40 - income_150_inf</td>\n",
       "      <td>2.284340e-09</td>\n",
       "      <td>4.195270e-16</td>\n",
       "      <td>2.603044e-14</td>\n",
       "    </tr>\n",
       "    <tr>\n",
       "      <th>9</th>\n",
       "      <td>income_40_60 - income_90_150</td>\n",
       "      <td>2.405498e-24</td>\n",
       "      <td>1.368052e-34</td>\n",
       "      <td>4.582440e-44</td>\n",
       "    </tr>\n",
       "    <tr>\n",
       "      <th>10</th>\n",
       "      <td>income_40_60 - income_0_20</td>\n",
       "      <td>6.252708e-04</td>\n",
       "      <td>2.066015e-48</td>\n",
       "      <td>1.735172e-07</td>\n",
       "    </tr>\n",
       "    <tr>\n",
       "      <th>11</th>\n",
       "      <td>income_40_60 - income_150_inf</td>\n",
       "      <td>4.578780e-07</td>\n",
       "      <td>7.357247e-11</td>\n",
       "      <td>1.632979e-11</td>\n",
       "    </tr>\n",
       "    <tr>\n",
       "      <th>12</th>\n",
       "      <td>income_90_150 - income_0_20</td>\n",
       "      <td>4.380525e-06</td>\n",
       "      <td>2.517627e-85</td>\n",
       "      <td>1.593579e-50</td>\n",
       "    </tr>\n",
       "    <tr>\n",
       "      <th>13</th>\n",
       "      <td>income_90_150 - income_150_inf</td>\n",
       "      <td>2.091768e-01</td>\n",
       "      <td>4.856772e-03</td>\n",
       "      <td>1.463045e-02</td>\n",
       "    </tr>\n",
       "    <tr>\n",
       "      <th>14</th>\n",
       "      <td>income_0_20 - income_150_inf</td>\n",
       "      <td>3.913576e-04</td>\n",
       "      <td>8.096567e-24</td>\n",
       "      <td>7.088633e-18</td>\n",
       "    </tr>\n",
       "  </tbody>\n",
       "</table>\n",
       "</div>"
      ],
      "text/plain": [
       "                              Пара  Количество просмотров сериалов  \\\n",
       "0      income_60_90 - income_20_40                    2.234353e-37   \n",
       "1      income_60_90 - income_40_60                    8.180710e-10   \n",
       "2     income_60_90 - income_90_150                    1.187686e-09   \n",
       "3       income_60_90 - income_0_20                    8.151600e-01   \n",
       "4    income_60_90 - income_150_inf                    8.151109e-05   \n",
       "5      income_20_40 - income_40_60                    3.159416e-24   \n",
       "6     income_20_40 - income_90_150                    6.933876e-42   \n",
       "7       income_20_40 - income_0_20                    8.189634e-13   \n",
       "8    income_20_40 - income_150_inf                    2.284340e-09   \n",
       "9     income_40_60 - income_90_150                    2.405498e-24   \n",
       "10      income_40_60 - income_0_20                    6.252708e-04   \n",
       "11   income_40_60 - income_150_inf                    4.578780e-07   \n",
       "12     income_90_150 - income_0_20                    4.380525e-06   \n",
       "13  income_90_150 - income_150_inf                    2.091768e-01   \n",
       "14    income_0_20 - income_150_inf                    3.913576e-04   \n",
       "\n",
       "    Средний процент просмотренности контента  Средняя длительность просмотра  \n",
       "0                              5.116591e-112                   5.600301e-108  \n",
       "1                               3.188261e-24                    8.101391e-41  \n",
       "2                               2.797037e-11                    3.886018e-08  \n",
       "3                               4.150762e-79                    1.915937e-27  \n",
       "4                               6.859771e-07                    1.017940e-04  \n",
       "5                               1.176502e-82                    2.129479e-43  \n",
       "6                               4.132237e-73                    3.014753e-69  \n",
       "7                               6.965465e-16                    8.079461e-01  \n",
       "8                               4.195270e-16                    2.603044e-14  \n",
       "9                               1.368052e-34                    4.582440e-44  \n",
       "10                              2.066015e-48                    1.735172e-07  \n",
       "11                              7.357247e-11                    1.632979e-11  \n",
       "12                              2.517627e-85                    1.593579e-50  \n",
       "13                              4.856772e-03                    1.463045e-02  \n",
       "14                              8.096567e-24                    7.088633e-18  "
      ]
     },
     "execution_count": 14,
     "metadata": {},
     "output_type": "execute_result"
    }
   ],
   "source": [
    "result = []\n",
    "\n",
    "for pair in combinations(df['income'].unique(), 2):\n",
    "    _, p_val_cnt_views = sts.f_oneway(\n",
    "        df[df['income'] == f'{pair[0]}']['series_cnt'], \n",
    "        df[df['income'] == f'{pair[1]}']['series_cnt'])\n",
    "    \n",
    "    _, p_val_mean_watched = sts.f_oneway(\n",
    "        df[df['income'] == f'{pair[0]}']['watched_pct'], \n",
    "        df[df['income'] == f'{pair[1]}']['watched_pct'])\n",
    "    \n",
    "    _, p_val_cnt_kids_film = sts.f_oneway(\n",
    "        df[df['income'] == f'{pair[0]}']['total_dur'], \n",
    "        df[df['income'] == f'{pair[1]}']['total_dur'])\n",
    "    \n",
    "    result.append({'Пара': ' - '.join(pair),\n",
    "                   'Количество просмотров сериалов': p_val_cnt_views,\n",
    "                   'Средний процент просмотренности контента': p_val_mean_watched,\n",
    "                   'Средняя длительность просмотра': p_val_cnt_kids_film})\n",
    "    \n",
    "f_test = pd.DataFrame(result)\n",
    "f_test"
   ]
  },
  {
   "cell_type": "code",
   "execution_count": 15,
   "id": "ae6d44ae",
   "metadata": {},
   "outputs": [
    {
     "data": {
      "text/plain": [
       "0.0"
      ]
     },
     "execution_count": 15,
     "metadata": {},
     "output_type": "execute_result"
    }
   ],
   "source": [
    "diff_t_f = np.abs(np.round(t_test.drop('Пара', axis=1) - f_test.drop('Пара', axis=1), 5)).sum().sum()\n",
    "diff_t_f"
   ]
  },
  {
   "cell_type": "markdown",
   "id": "aa16220a",
   "metadata": {},
   "source": [
    "### Вывод: "
   ]
  },
  {
   "cell_type": "markdown",
   "id": "2cb5bc61",
   "metadata": {},
   "source": [
    "Попарный тест Фишерра эквивалентен двухстороннему тесту Стьюдента, это можно заметить как из полученных таблиц визуально, так и численно - значение diff_t_f равно 0 в точности до 5 знака после запятой."
   ]
  },
  {
   "cell_type": "markdown",
   "id": "44ebd682",
   "metadata": {},
   "source": [
    "## Задача 4. Построим точный и эфронов доверительные интервалы для выбранных метрик."
   ]
  },
  {
   "cell_type": "markdown",
   "id": "7f5af342",
   "metadata": {},
   "source": [
    "Возьмем два сегмента дохода пользователя: income_20_40 и income_60_90. Построим для них доверительные интервалы и сравним их с результатами теста Стьюдента из 2-го пункта."
   ]
  },
  {
   "cell_type": "code",
   "execution_count": 16,
   "id": "51f4e90d",
   "metadata": {},
   "outputs": [],
   "source": [
    "# Функция для расчета точного доверительного интервала:\n",
    "def exact(data, alpha=0.05):\n",
    "    n = len(data)\n",
    "    mean = np.mean(data)\n",
    "    std = np.std(data, ddof=1)\n",
    "    t = sts.t.ppf(1 - alpha / 2, df=n - 1)\n",
    "    lower = mean - (t * std / np.sqrt(n))\n",
    "    upper = mean + (t * std / np.sqrt(n))\n",
    "    return lower, upper"
   ]
  },
  {
   "cell_type": "code",
   "execution_count": 17,
   "id": "f1587c23",
   "metadata": {},
   "outputs": [],
   "source": [
    "# Функция для расчета эфронова доверительного интервала:\n",
    "def efron(data, alpha=0.05, n_bootstrap=1000):\n",
    "    n = len(data)\n",
    "    mean = np.mean(data)\n",
    "    \n",
    "    bootstrap_samples = np.random.choice(data, size=(n, n_bootstrap), replace=True)\n",
    "    \n",
    "    bootstrap_means = np.mean(bootstrap_samples, axis=0)\n",
    "    \n",
    "    lower_mean = np.percentile(bootstrap_means, q=alpha / 2 * 100)\n",
    "    upper_mean = np.percentile(bootstrap_means, q=(1 - alpha / 2) * 100)\n",
    "    \n",
    "    return (lower_mean, upper_mean)"
   ]
  },
  {
   "cell_type": "code",
   "execution_count": 18,
   "id": "31fd8a0f",
   "metadata": {},
   "outputs": [
    {
     "name": "stdout",
     "output_type": "stream",
     "text": [
      "total_dur: [7103.3479  7235.88603], [9094.8356  9496.95839], 0.0\n",
      "watched_pct: [37.52449 37.71015], [40.34445 40.83473], 0.0\n",
      "series_cnt: [1.28335 1.29767], [1.40174 1.44133], 0.0\n"
     ]
    }
   ],
   "source": [
    "result = []\n",
    "\n",
    "for metric in metrics:\n",
    "    interval_20_40 = exact(df[df['income'] == 'income_20_40'][metric])\n",
    "    interval_60_90 = exact(df[df['income'] == 'income_60_90'][metric])\n",
    "    interval_20_40 = np.round(interval_20_40, 5)\n",
    "    interval_60_90 = np.round(interval_60_90, 5)\n",
    "    \n",
    "    _, p_val = sts.ttest_ind(df[df['income'] == 'income_20_40'][metric], \n",
    "                               df[df['income'] == 'income_60_90'][metric])\n",
    "    p_val = np.round(p_val, 5)\n",
    "\n",
    "    print(f'{metric}: {interval_20_40}, {interval_60_90}, {p_val}')"
   ]
  },
  {
   "cell_type": "code",
   "execution_count": 19,
   "id": "85c31c5b",
   "metadata": {},
   "outputs": [
    {
     "name": "stdout",
     "output_type": "stream",
     "text": [
      "total_dur: [7101.92323 7237.41414], [9098.92729 9489.1581 ], 0.0\n",
      "watched_pct: [37.53013 37.71052], [40.38026 40.83143], 0.0\n",
      "series_cnt: [1.28385 1.29716], [1.4034  1.44279], 0.0\n"
     ]
    }
   ],
   "source": [
    "for metric in metrics:\n",
    "    interval_20_40 = efron(df[df['income'] == 'income_20_40'][metric])\n",
    "    interval_60_90 = efron(df[df['income'] == 'income_60_90'][metric])\n",
    "    interval_20_40 = np.round(interval_20_40, 5)\n",
    "    interval_60_90 = np.round(interval_60_90, 5)\n",
    "    \n",
    "    _, p_val = sts.ttest_ind(df[df['income'] == 'income_20_40'][metric], \n",
    "                               df[df['income'] == 'income_60_90'][metric])\n",
    "    p_val = np.round(p_val, 5)\n",
    "    \n",
    "    print(f'{metric}: {interval_20_40}, {interval_60_90}, {p_val}')"
   ]
  },
  {
   "cell_type": "markdown",
   "id": "65ec8d4a",
   "metadata": {},
   "source": [
    "### Вывод: "
   ]
  },
  {
   "cell_type": "markdown",
   "id": "2a975096",
   "metadata": {},
   "source": [
    "* И точный, и эфронов доверительные интервалы показали одинаковые результаты.\n",
    "* Построенные доверительные интервалы подтверждают полученные выше значения теста Стьюдента.\n",
    "* Использование доверительных интервалов считается менее точным, поскольку может вызывать ошибку 2-го рода."
   ]
  },
  {
   "cell_type": "markdown",
   "id": "f2d5d71b",
   "metadata": {},
   "source": [
    "## Задача 5. Используем в пункте 2 другие стат. тесты."
   ]
  },
  {
   "cell_type": "markdown",
   "id": "ef337e1d",
   "metadata": {},
   "source": [
    "### Тест Краскела — Уоллиса"
   ]
  },
  {
   "cell_type": "markdown",
   "id": "c2cb3ed0",
   "metadata": {},
   "source": [
    "Тест Краскела — Уоллиса предназначен для проверки равенства медиан нескольких выборок. Данный критерий является многомерным обобщением критерия Уилкоксона — Манна — Уитни. Критерий Краскела — Уоллиса является ранговым, поэтому он инвариантен по отношению к любому монотонному преобразованию шкалы измерения."
   ]
  },
  {
   "cell_type": "code",
   "execution_count": 20,
   "id": "13884ddf",
   "metadata": {},
   "outputs": [
    {
     "data": {
      "text/plain": [
       "1.5850179438314317e-51"
      ]
     },
     "execution_count": 20,
     "metadata": {},
     "output_type": "execute_result"
    }
   ],
   "source": [
    "_, p_val = sts.kruskal(df.query(\"income == 'income_20_40'\")['series_cnt'], \n",
    "                          df.query(\"income == 'income_60_90'\")['series_cnt'])\n",
    "p_val"
   ]
  },
  {
   "cell_type": "markdown",
   "id": "39119162",
   "metadata": {},
   "source": [
    "*Вывод: поскольку p < 0.05, следовательно медианы распределений не равны*"
   ]
  },
  {
   "cell_type": "markdown",
   "id": "c52f1ff4",
   "metadata": {},
   "source": [
    "### Тест Уилкоксона"
   ]
  },
  {
   "cell_type": "markdown",
   "id": "c0644292",
   "metadata": {},
   "source": [
    "Тест Уилкоксона проверяет нулевую гипотезу о том, что две связанные парные выборки получены из одного и того же распределения. В частности, он проверяет, симметрично ли распределение различий x - y относительно нуля. Это непараметрическая версия парного T-критерия."
   ]
  },
  {
   "cell_type": "code",
   "execution_count": 21,
   "id": "7b84304e",
   "metadata": {},
   "outputs": [
    {
     "data": {
      "text/plain": [
       "3.842290438005416e-12"
      ]
     },
     "execution_count": 21,
     "metadata": {},
     "output_type": "execute_result"
    }
   ],
   "source": [
    "_, p_val = sts.wilcoxon(df.query(\"income == 'income_20_40'\")['series_cnt'].sample(30000), \n",
    "                          df.query(\"income == 'income_60_90'\")['series_cnt'].sample(30000))\n",
    "p_val"
   ]
  },
  {
   "cell_type": "markdown",
   "id": "3faf6ca4",
   "metadata": {},
   "source": [
    "*Вывод: поскольку p < 0.05, следовательно выборки получены из различных распределений*"
   ]
  },
  {
   "cell_type": "markdown",
   "id": "ecc08da0",
   "metadata": {},
   "source": [
    "### Тест Колмогорова-Смирнова"
   ]
  },
  {
   "cell_type": "markdown",
   "id": "3f25795e",
   "metadata": {},
   "source": [
    "Тест Колмогорова-Смирнова используется для проверки гипотезы о принадлежности двух независимых выборок одному закону распределения, то есть о том, что два эмпирических распределения соответствуют одному и тому же закону."
   ]
  },
  {
   "cell_type": "code",
   "execution_count": 22,
   "id": "674b7d68",
   "metadata": {},
   "outputs": [
    {
     "data": {
      "text/plain": [
       "3.9938986160082435e-33"
      ]
     },
     "execution_count": 22,
     "metadata": {},
     "output_type": "execute_result"
    }
   ],
   "source": [
    "_, p_val = sts.ks_2samp(df.query(\"income == 'income_20_40'\")['series_cnt'], \n",
    "                          df.query(\"income == 'income_60_90'\")['series_cnt'])\n",
    "p_val"
   ]
  },
  {
   "cell_type": "markdown",
   "id": "73d69492",
   "metadata": {},
   "source": [
    "*Вывод: поскольку p < 0.05, следовательно распределения различны*"
   ]
  }
 ],
 "metadata": {
  "kernelspec": {
   "display_name": "Python 3 (ipykernel)",
   "language": "python",
   "name": "python3"
  },
  "language_info": {
   "codemirror_mode": {
    "name": "ipython",
    "version": 3
   },
   "file_extension": ".py",
   "mimetype": "text/x-python",
   "name": "python",
   "nbconvert_exporter": "python",
   "pygments_lexer": "ipython3",
   "version": "3.11.5"
  }
 },
 "nbformat": 4,
 "nbformat_minor": 5
}
